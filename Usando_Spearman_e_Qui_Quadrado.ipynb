{
  "nbformat": 4,
  "nbformat_minor": 0,
  "metadata": {
    "colab": {
      "name": "Usando Spearman e Qui-Quadrado.ipynb",
      "provenance": [],
      "authorship_tag": "ABX9TyOAwmyqnT9gZ2ITHRlFuVSp",
      "include_colab_link": true
    },
    "kernelspec": {
      "name": "python3",
      "display_name": "Python 3"
    }
  },
  "cells": [
    {
      "cell_type": "markdown",
      "metadata": {
        "id": "view-in-github",
        "colab_type": "text"
      },
      "source": [
        "<a href=\"https://colab.research.google.com/github/AugustoSavi/Python-para-Ciencia-de-Dados-Formacao-Basica/blob/master/Usando_Spearman_e_Qui_Quadrado.ipynb\" target=\"_parent\"><img src=\"https://colab.research.google.com/assets/colab-badge.svg\" alt=\"Open In Colab\"/></a>"
      ]
    },
    {
      "cell_type": "code",
      "metadata": {
        "id": "7fpOn6l8HW_4",
        "colab_type": "code",
        "colab": {
          "base_uri": "https://localhost:8080/",
          "height": 235
        },
        "outputId": "0c7c47bb-2de1-43fe-d883-4a1344b2797f"
      },
      "source": [
        "import pandas as pd\n",
        "import seaborn as sns\n",
        "\n",
        "from matplotlib import pyplot as plt\n",
        "from matplotlib import rcParams\n",
        "from scipy.stats.stats import pearsonr\n",
        "\n",
        "%matplotlib inline\n",
        "rcParams['figure.figsize'] = 5, 4\n",
        "sns.set_style('whitegrid')\n",
        "\n",
        "caminho = 'https://gist.githubusercontent.com/seankross/a412dfbd88b3db70b74b/raw/5f23f993cd87c283ce766e7ac6b329ee7cc2e1d1/mtcars.csv'\n",
        "carros = pd.read_csv(caminho)\n",
        "carros.columns = ['nomes','mpg', 'cyl',\t'disp',\t'hp',\t'drat','wt','qsec',\t'vs','am','qtd_marchas','carb']\n",
        "carros.index = carros.nomes\n",
        "\n",
        "carros.head()"
      ],
      "execution_count": 1,
      "outputs": [
        {
          "output_type": "execute_result",
          "data": {
            "text/html": [
              "<div>\n",
              "<style scoped>\n",
              "    .dataframe tbody tr th:only-of-type {\n",
              "        vertical-align: middle;\n",
              "    }\n",
              "\n",
              "    .dataframe tbody tr th {\n",
              "        vertical-align: top;\n",
              "    }\n",
              "\n",
              "    .dataframe thead th {\n",
              "        text-align: right;\n",
              "    }\n",
              "</style>\n",
              "<table border=\"1\" class=\"dataframe\">\n",
              "  <thead>\n",
              "    <tr style=\"text-align: right;\">\n",
              "      <th></th>\n",
              "      <th>nomes</th>\n",
              "      <th>mpg</th>\n",
              "      <th>cyl</th>\n",
              "      <th>disp</th>\n",
              "      <th>hp</th>\n",
              "      <th>drat</th>\n",
              "      <th>wt</th>\n",
              "      <th>qsec</th>\n",
              "      <th>vs</th>\n",
              "      <th>am</th>\n",
              "      <th>qtd_marchas</th>\n",
              "      <th>carb</th>\n",
              "    </tr>\n",
              "    <tr>\n",
              "      <th>nomes</th>\n",
              "      <th></th>\n",
              "      <th></th>\n",
              "      <th></th>\n",
              "      <th></th>\n",
              "      <th></th>\n",
              "      <th></th>\n",
              "      <th></th>\n",
              "      <th></th>\n",
              "      <th></th>\n",
              "      <th></th>\n",
              "      <th></th>\n",
              "      <th></th>\n",
              "    </tr>\n",
              "  </thead>\n",
              "  <tbody>\n",
              "    <tr>\n",
              "      <th>Mazda RX4</th>\n",
              "      <td>Mazda RX4</td>\n",
              "      <td>21.0</td>\n",
              "      <td>6</td>\n",
              "      <td>160.0</td>\n",
              "      <td>110</td>\n",
              "      <td>3.90</td>\n",
              "      <td>2.620</td>\n",
              "      <td>16.46</td>\n",
              "      <td>0</td>\n",
              "      <td>1</td>\n",
              "      <td>4</td>\n",
              "      <td>4</td>\n",
              "    </tr>\n",
              "    <tr>\n",
              "      <th>Mazda RX4 Wag</th>\n",
              "      <td>Mazda RX4 Wag</td>\n",
              "      <td>21.0</td>\n",
              "      <td>6</td>\n",
              "      <td>160.0</td>\n",
              "      <td>110</td>\n",
              "      <td>3.90</td>\n",
              "      <td>2.875</td>\n",
              "      <td>17.02</td>\n",
              "      <td>0</td>\n",
              "      <td>1</td>\n",
              "      <td>4</td>\n",
              "      <td>4</td>\n",
              "    </tr>\n",
              "    <tr>\n",
              "      <th>Datsun 710</th>\n",
              "      <td>Datsun 710</td>\n",
              "      <td>22.8</td>\n",
              "      <td>4</td>\n",
              "      <td>108.0</td>\n",
              "      <td>93</td>\n",
              "      <td>3.85</td>\n",
              "      <td>2.320</td>\n",
              "      <td>18.61</td>\n",
              "      <td>1</td>\n",
              "      <td>1</td>\n",
              "      <td>4</td>\n",
              "      <td>1</td>\n",
              "    </tr>\n",
              "    <tr>\n",
              "      <th>Hornet 4 Drive</th>\n",
              "      <td>Hornet 4 Drive</td>\n",
              "      <td>21.4</td>\n",
              "      <td>6</td>\n",
              "      <td>258.0</td>\n",
              "      <td>110</td>\n",
              "      <td>3.08</td>\n",
              "      <td>3.215</td>\n",
              "      <td>19.44</td>\n",
              "      <td>1</td>\n",
              "      <td>0</td>\n",
              "      <td>3</td>\n",
              "      <td>1</td>\n",
              "    </tr>\n",
              "    <tr>\n",
              "      <th>Hornet Sportabout</th>\n",
              "      <td>Hornet Sportabout</td>\n",
              "      <td>18.7</td>\n",
              "      <td>8</td>\n",
              "      <td>360.0</td>\n",
              "      <td>175</td>\n",
              "      <td>3.15</td>\n",
              "      <td>3.440</td>\n",
              "      <td>17.02</td>\n",
              "      <td>0</td>\n",
              "      <td>0</td>\n",
              "      <td>3</td>\n",
              "      <td>2</td>\n",
              "    </tr>\n",
              "  </tbody>\n",
              "</table>\n",
              "</div>"
            ],
            "text/plain": [
              "                               nomes   mpg  cyl  ...  am  qtd_marchas  carb\n",
              "nomes                                            ...                       \n",
              "Mazda RX4                  Mazda RX4  21.0    6  ...   1            4     4\n",
              "Mazda RX4 Wag          Mazda RX4 Wag  21.0    6  ...   1            4     4\n",
              "Datsun 710                Datsun 710  22.8    4  ...   1            4     1\n",
              "Hornet 4 Drive        Hornet 4 Drive  21.4    6  ...   0            3     1\n",
              "Hornet Sportabout  Hornet Sportabout  18.7    8  ...   0            3     2\n",
              "\n",
              "[5 rows x 12 columns]"
            ]
          },
          "metadata": {
            "tags": []
          },
          "execution_count": 1
        }
      ]
    },
    {
      "cell_type": "code",
      "metadata": {
        "id": "EJx3f7jPHdcY",
        "colab_type": "code",
        "colab": {}
      },
      "source": [
        "from scipy.stats import spearmanr"
      ],
      "execution_count": 0,
      "outputs": []
    },
    {
      "cell_type": "code",
      "metadata": {
        "id": "Jt_dC-iYIvL2",
        "colab_type": "code",
        "colab": {
          "base_uri": "https://localhost:8080/",
          "height": 764
        },
        "outputId": "df317316-f2fb-47ab-80d9-01efb4048cab"
      },
      "source": [
        "x = carros[['cyl','vs','am','qtd_marchas']]\n",
        "sns.pairplot(x)"
      ],
      "execution_count": 3,
      "outputs": [
        {
          "output_type": "execute_result",
          "data": {
            "text/plain": [
              "<seaborn.axisgrid.PairGrid at 0x7fd8f77b00b8>"
            ]
          },
          "metadata": {
            "tags": []
          },
          "execution_count": 3
        },
        {
          "output_type": "display_data",
          "data": {
            "image/png": "[encoded data removed]",
            "text/plain": [
              "<Figure size 720x720 with 20 Axes>"
            ]
          },
          "metadata": {
            "tags": []
          }
        }
      ]
    },
    {
      "cell_type": "code",
      "metadata": {
        "id": "LUuf-f4HL1XO",
        "colab_type": "code",
        "colab": {
          "base_uri": "https://localhost:8080/",
          "height": 34
        },
        "outputId": "1d87f4d6-1c5a-496b-e31f-cb367f348e15"
      },
      "source": [
        "cyl = carros['cyl']\n",
        "vs = carros['vs']\n",
        "am = carros['am']\n",
        "qtd_marchas = carros['qtd_marchas']\n",
        "\n",
        "coeficiente, p_valor = spearmanr(cyl,vs)\n",
        "print('Correlação de spearman {:0.3}'.format(coeficiente))"
      ],
      "execution_count": 4,
      "outputs": [
        {
          "output_type": "stream",
          "text": [
            "Correlação de spearman -0.814\n"
          ],
          "name": "stdout"
        }
      ]
    },
    {
      "cell_type": "code",
      "metadata": {
        "id": "fOMufmvCMdDe",
        "colab_type": "code",
        "colab": {
          "base_uri": "https://localhost:8080/",
          "height": 34
        },
        "outputId": "4868deb1-ad09-4259-e268-74b2fb6f4e5d"
      },
      "source": [
        "coeficiente, p_valor = spearmanr(cyl,am)\n",
        "print('Correlação de spearman {:0.3}'.format(coeficiente))"
      ],
      "execution_count": 5,
      "outputs": [
        {
          "output_type": "stream",
          "text": [
            "Correlação de spearman -0.522\n"
          ],
          "name": "stdout"
        }
      ]
    },
    {
      "cell_type": "code",
      "metadata": {
        "id": "sR3Om6L5Mgd8",
        "colab_type": "code",
        "colab": {
          "base_uri": "https://localhost:8080/",
          "height": 34
        },
        "outputId": "746ef450-f19e-474a-c33d-4b669852a312"
      },
      "source": [
        "coeficiente, p_valor = spearmanr(cyl,qtd_marchas)\n",
        "print('Correlação de spearman {:0.3}'.format(coeficiente))"
      ],
      "execution_count": 6,
      "outputs": [
        {
          "output_type": "stream",
          "text": [
            "Correlação de spearman -0.564\n"
          ],
          "name": "stdout"
        }
      ]
    },
    {
      "cell_type": "markdown",
      "metadata": {
        "id": "JoCIe3V9Mk4d",
        "colab_type": "text"
      },
      "source": [
        "Qui-Quadrado"
      ]
    },
    {
      "cell_type": "code",
      "metadata": {
        "id": "YKC3sr1oMnhn",
        "colab_type": "code",
        "colab": {
          "base_uri": "https://localhost:8080/",
          "height": 34
        },
        "outputId": "ddbfc495-ec81-415b-8622-857cf290ec0b"
      },
      "source": [
        "from scipy.stats import chi2_contingency\n",
        "\n",
        "tab = pd.crosstab(cyl,am)\n",
        "\n",
        "chi2, p , dof , exp = chi2_contingency(tab.values)\n",
        "print('Qui-Quadrado: {:0.3} p-valor: {:0.3}'.format(chi2,p))"
      ],
      "execution_count": 9,
      "outputs": [
        {
          "output_type": "stream",
          "text": [
            "Qui-Quadrado: 8.74 p-valor: 0.0126\n"
          ],
          "name": "stdout"
        }
      ]
    },
    {
      "cell_type": "code",
      "metadata": {
        "id": "XJdeXO7pNUsP",
        "colab_type": "code",
        "colab": {
          "base_uri": "https://localhost:8080/",
          "height": 34
        },
        "outputId": "4f42d59a-7d83-46c8-a884-ecc6eb6c0644"
      },
      "source": [
        "tab = pd.crosstab(cyl,vs)\n",
        "\n",
        "chi2, p , dof , exp = chi2_contingency(tab.values)\n",
        "print('Qui-Quadrado: {:0.3} p-valor: {:0.3}'.format(chi2,p))"
      ],
      "execution_count": 10,
      "outputs": [
        {
          "output_type": "stream",
          "text": [
            "Qui-Quadrado: 21.3 p-valor: 2.32e-05\n"
          ],
          "name": "stdout"
        }
      ]
    },
    {
      "cell_type": "code",
      "metadata": {
        "id": "Kn2WoBWcNWv8",
        "colab_type": "code",
        "colab": {
          "base_uri": "https://localhost:8080/",
          "height": 34
        },
        "outputId": "ec58d156-0c1e-43ab-aef1-7abb4f57a979"
      },
      "source": [
        "tab = pd.crosstab(cyl,qtd_marchas)\n",
        "\n",
        "chi2, p , dof , exp = chi2_contingency(tab.values)\n",
        "print('Qui-Quadrado: {:0.3} p-valor: {:0.3}'.format(chi2,p))"
      ],
      "execution_count": 11,
      "outputs": [
        {
          "output_type": "stream",
          "text": [
            "Qui-Quadrado: 18.0 p-valor: 0.00121\n"
          ],
          "name": "stdout"
        }
      ]
    }
  ]
}