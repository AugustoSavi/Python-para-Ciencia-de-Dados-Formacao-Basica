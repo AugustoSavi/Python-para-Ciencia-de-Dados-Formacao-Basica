{
  "nbformat": 4,
  "nbformat_minor": 0,
  "metadata": {
    "colab": {
      "name": "Untitled",
      "provenance": [],
      "authorship_tag": "ABX9TyPeadsr7Nmh7l4NSASx9gpc",
      "include_colab_link": true
    },
    "kernelspec": {
      "name": "python3",
      "display_name": "Python 3"
    }
  },
  "cells": [
    {
      "cell_type": "markdown",
      "metadata": {
        "id": "view-in-github",
        "colab_type": "text"
      },
      "source": [
        "<a href=\"https://colab.research.google.com/github/AugustoSavi/Python-para-Ciencia-de-Dados-Formacao-Basica/blob/master/websScrapingBasicoDoBasico.ipynb\" target=\"_parent\"><img src=\"https://colab.research.google.com/assets/colab-badge.svg\" alt=\"Open In Colab\"/></a>"
      ]
    },
    {
      "cell_type": "code",
      "metadata": {
        "id": "JnxvHnX8n2LJ",
        "colab_type": "code",
        "colab": {}
      },
      "source": [
        "!pip install beautifulsoup4"
      ],
      "execution_count": 0,
      "outputs": []
    },
    {
      "cell_type": "code",
      "metadata": {
        "id": "T0EWWRFBrOU_",
        "colab_type": "code",
        "colab": {}
      },
      "source": [
        "import string\n",
        "import random\n",
        "def id_generator(size=6, chars=string.ascii_lowercase + string.digits):\n",
        "    return ''.join(random.choice(chars) for _ in range(size))\n"
      ],
      "execution_count": 0,
      "outputs": []
    },
    {
      "cell_type": "code",
      "metadata": {
        "id": "SEM93X_gsRR_",
        "colab_type": "code",
        "colab": {}
      },
      "source": [
        "import urllib.request\n",
        "\n",
        "for x in range(3):\n",
        "  randomImg =id_generator()\n",
        "  url = 'https://prnt.sc/{}'.format(randomImg)\n",
        "  user_agent = 'Mozilla/5.0'\n",
        "  headers={'User-Agent':user_agent,}\n",
        "  request=urllib.request.Request(url,None,headers)\n",
        "  response = urllib.request.urlopen(request)\n",
        "  data = response.read()\n",
        "  soup = BeautifulSoup(data)\n",
        "  print(soup.img.get('src'))"
      ],
      "execution_count": 0,
      "outputs": []
    }
  ]
}