{
  "nbformat": 4,
  "nbformat_minor": 0,
  "metadata": {
    "colab": {
      "name": "Untitled",
      "provenance": [],
      "include_colab_link": true
    },
    "kernelspec": {
      "name": "python3",
      "display_name": "Python 3"
    }
  },
  "cells": [
    {
      "cell_type": "markdown",
      "metadata": {
        "id": "view-in-github",
        "colab_type": "text"
      },
      "source": [
        "<a href=\"https://colab.research.google.com/github/AugustoSavi/Python-para-Ciencia-de-Dados-Formacao-Basica/blob/master/websScrapingBasicoDoBasico.ipynb\" target=\"_parent\"><img src=\"https://colab.research.google.com/assets/colab-badge.svg\" alt=\"Open In Colab\"/></a>"
      ]
    },
    {
      "cell_type": "code",
      "metadata": {
        "id": "JnxvHnX8n2LJ",
        "colab": {
          "base_uri": "https://localhost:8080/"
        },
        "outputId": "63e6b94e-d10e-4b38-9775-870faa1e4ebd"
      },
      "source": [
        "!pip install beautifulsoup4"
      ],
      "execution_count": 2,
      "outputs": [
        {
          "output_type": "stream",
          "text": [
            "Requirement already satisfied: beautifulsoup4 in /usr/local/lib/python3.7/dist-packages (4.6.3)\n"
          ],
          "name": "stdout"
        }
      ]
    },
    {
      "cell_type": "code",
      "metadata": {
        "id": "T0EWWRFBrOU_"
      },
      "source": [
        "import string\n",
        "import random\n",
        "def id_generator(size=6, chars=string.ascii_lowercase + string.digits):\n",
        "    return ''.join(random.choice(chars) for _ in range(size))\n"
      ],
      "execution_count": 3,
      "outputs": []
    },
    {
      "cell_type": "code",
      "metadata": {
        "id": "wg41MzCEEgSt"
      },
      "source": [
        "from IPython.display import Javascript\n",
        "def open_web(url):\n",
        "    display(Javascript('window.open(\"{url}\");'.format(url=url)))"
      ],
      "execution_count": 16,
      "outputs": []
    },
    {
      "cell_type": "code",
      "metadata": {
        "id": "SEM93X_gsRR_",
        "outputId": "85be6ad2-ebdd-4fad-f4f3-e32f4268c5e7",
        "colab": {
          "base_uri": "https://localhost:8080/",
          "height": 17
        }
      },
      "source": [
        "import urllib.request\n",
        "import re\n",
        "from bs4 import BeautifulSoup\n",
        "count = 0\n",
        "while count <= 15:\n",
        "  randomImg =id_generator()\n",
        "  url = 'https://prnt.sc/{}'.format(randomImg)\n",
        "  user_agent = 'Mozilla/5.0'\n",
        "  headers={'User-Agent':user_agent,}\n",
        "  request=urllib.request.Request(url,None,headers)\n",
        "  response = urllib.request.urlopen(request)\n",
        "  data = response.read()\n",
        "  soup = BeautifulSoup(data)\n",
        "  goodLink = re.findall(\"^https://i.imgur.com/\", soup.img.get('src'))\n",
        "  if goodLink:\n",
        "    open_web(soup.img.get('src'))\n",
        "    count += 1"
      ],
      "execution_count": 21,
      "outputs": [
        {
          "output_type": "display_data",
          "data": {
            "application/javascript": [
              "window.open(\"https://i.imgur.com/qo5M5BY.jpg\");"
            ],
            "text/plain": [
              "<IPython.core.display.Javascript object>"
            ]
          },
          "metadata": {
            "tags": []
          }
        },
        {
          "output_type": "display_data",
          "data": {
            "application/javascript": [
              "window.open(\"https://i.imgur.com/1CJdXzY.png\");"
            ],
            "text/plain": [
              "<IPython.core.display.Javascript object>"
            ]
          },
          "metadata": {
            "tags": []
          }
        },
        {
          "output_type": "display_data",
          "data": {
            "application/javascript": [
              "window.open(\"https://i.imgur.com/kla71er.png\");"
            ],
            "text/plain": [
              "<IPython.core.display.Javascript object>"
            ]
          },
          "metadata": {
            "tags": []
          }
        },
        {
          "output_type": "display_data",
          "data": {
            "application/javascript": [
              "window.open(\"https://i.imgur.com/HD1J9XG.png\");"
            ],
            "text/plain": [
              "<IPython.core.display.Javascript object>"
            ]
          },
          "metadata": {
            "tags": []
          }
        },
        {
          "output_type": "display_data",
          "data": {
            "application/javascript": [
              "window.open(\"https://i.imgur.com/W61u7C9.png\");"
            ],
            "text/plain": [
              "<IPython.core.display.Javascript object>"
            ]
          },
          "metadata": {
            "tags": []
          }
        },
        {
          "output_type": "display_data",
          "data": {
            "application/javascript": [
              "window.open(\"https://i.imgur.com/Dk61r4G.png\");"
            ],
            "text/plain": [
              "<IPython.core.display.Javascript object>"
            ]
          },
          "metadata": {
            "tags": []
          }
        },
        {
          "output_type": "display_data",
          "data": {
            "application/javascript": [
              "window.open(\"https://i.imgur.com/NMMbYRY.png\");"
            ],
            "text/plain": [
              "<IPython.core.display.Javascript object>"
            ]
          },
          "metadata": {
            "tags": []
          }
        },
        {
          "output_type": "display_data",
          "data": {
            "application/javascript": [
              "window.open(\"https://i.imgur.com/OiCvzGr.jpg\");"
            ],
            "text/plain": [
              "<IPython.core.display.Javascript object>"
            ]
          },
          "metadata": {
            "tags": []
          }
        },
        {
          "output_type": "display_data",
          "data": {
            "application/javascript": [
              "window.open(\"https://i.imgur.com/QpKm74T.jpg\");"
            ],
            "text/plain": [
              "<IPython.core.display.Javascript object>"
            ]
          },
          "metadata": {
            "tags": []
          }
        },
        {
          "output_type": "display_data",
          "data": {
            "application/javascript": [
              "window.open(\"https://i.imgur.com/dhChVFQ.png\");"
            ],
            "text/plain": [
              "<IPython.core.display.Javascript object>"
            ]
          },
          "metadata": {
            "tags": []
          }
        },
        {
          "output_type": "display_data",
          "data": {
            "application/javascript": [
              "window.open(\"https://i.imgur.com/OqQcO7h.jpg\");"
            ],
            "text/plain": [
              "<IPython.core.display.Javascript object>"
            ]
          },
          "metadata": {
            "tags": []
          }
        },
        {
          "output_type": "display_data",
          "data": {
            "application/javascript": [
              "window.open(\"https://i.imgur.com/KwoACSn.png\");"
            ],
            "text/plain": [
              "<IPython.core.display.Javascript object>"
            ]
          },
          "metadata": {
            "tags": []
          }
        },
        {
          "output_type": "display_data",
          "data": {
            "application/javascript": [
              "window.open(\"https://i.imgur.com/hj8CSWz.png\");"
            ],
            "text/plain": [
              "<IPython.core.display.Javascript object>"
            ]
          },
          "metadata": {
            "tags": []
          }
        },
        {
          "output_type": "display_data",
          "data": {
            "application/javascript": [
              "window.open(\"https://i.imgur.com/R3Zp3Xm.jpg\");"
            ],
            "text/plain": [
              "<IPython.core.display.Javascript object>"
            ]
          },
          "metadata": {
            "tags": []
          }
        },
        {
          "output_type": "display_data",
          "data": {
            "application/javascript": [
              "window.open(\"https://i.imgur.com/GGl8qyq.png\");"
            ],
            "text/plain": [
              "<IPython.core.display.Javascript object>"
            ]
          },
          "metadata": {
            "tags": []
          }
        },
        {
          "output_type": "display_data",
          "data": {
            "application/javascript": [
              "window.open(\"https://i.imgur.com/QpKm74T.jpg\");"
            ],
            "text/plain": [
              "<IPython.core.display.Javascript object>"
            ]
          },
          "metadata": {
            "tags": []
          }
        }
      ]
    }
  ]
}