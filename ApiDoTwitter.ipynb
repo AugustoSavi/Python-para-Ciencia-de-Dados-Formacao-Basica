{
  "nbformat": 4,
  "nbformat_minor": 0,
  "metadata": {
    "colab": {
      "name": "ApiDoTwitter.ipynb",
      "provenance": [],
      "authorship_tag": "ABX9TyOuFHBtINjBuIx/c/34K6Z9",
      "include_colab_link": true
    },
    "kernelspec": {
      "name": "python3",
      "display_name": "Python 3"
    }
  },
  "cells": [
    {
      "cell_type": "markdown",
      "metadata": {
        "id": "view-in-github",
        "colab_type": "text"
      },
      "source": [
        "<a href=\"https://colab.research.google.com/github/AugustoSavi/Python-para-Ciencia-de-Dados-Formacao-Basica/blob/master/ApiDoTwitter.ipynb\" target=\"_parent\"><img src=\"https://colab.research.google.com/assets/colab-badge.svg\" alt=\"Open In Colab\"/></a>"
      ]
    },
    {
      "cell_type": "code",
      "metadata": {
        "id": "ryg0WjeYmlhr",
        "colab_type": "code",
        "colab": {}
      },
      "source": [
        "import tweepy as tw\n",
        "import pandas as pd\n",
        "\n",
        "consumer_key = 'xxxxxxxxxxxxxxxxxxxxxxxxxxxxxx'\n",
        "consumer_secret = 'xxxxxxxxxxxxxxxxxxxxxxxxxxxxxx'\n",
        "access_token = 'xxxxxxxxxxxxxxxxxxxxxxxxxxxxxxxxxxxxxxxxxxxxxxxxxxxxxxxxxxxx'\n",
        "access_token_secret = 'xxxxxxxxxxxxxxxxxxxxxxxxxxxxxx'\n",
        "\n",
        "auth = tw.OAuthHandler(consumer_key, consumer_secret)\n",
        "auth.set_access_token(access_token, access_token_secret)\n",
        "\n",
        "api = tw.API(auth)\n",
        "\n",
        "public_tweets = api.home_timeline()"
      ],
      "execution_count": 0,
      "outputs": []
    },
    {
      "cell_type": "code",
      "metadata": {
        "id": "Fk_C1fNPuVez",
        "colab_type": "code",
        "colab": {}
      },
      "source": [
        "\n",
        "query_search= \"Bolsonaro\"  + \" -filter:retweets\"\n",
        "\n",
        "cursor_tweets = tw.Cursor(api.search, q=query_search).items(1000)\n"
      ],
      "execution_count": 0,
      "outputs": []
    },
    {
      "cell_type": "code",
      "metadata": {
        "id": "af43n4jTvEdO",
        "colab_type": "code",
        "colab": {}
      },
      "source": [
        "twkeys = tweet._json.keys()"
      ],
      "execution_count": 0,
      "outputs": []
    },
    {
      "cell_type": "code",
      "metadata": {
        "id": "9K4VfYKZvYku",
        "colab_type": "code",
        "colab": {}
      },
      "source": [
        "tweets_dict = {}\n",
        "tweets_dict = tweets_dict.fromkeys(['created_at', 'id', 'id_str', 'text', 'truncated', 'entities', 'metadata', 'source', 'in_reply_to_status_id',\n",
        "                                    'in_reply_to_status_id_str', 'in_reply_to_user_id', 'in_reply_to_user_id_str', 'in_reply_to_screen_name', 'user', \n",
        "                                    'geo', 'coordinates', 'place', 'contributors', 'is_quote_status', 'retweet_count', 'favorite_count', 'favorited', 'retweeted'])"
      ],
      "execution_count": 0,
      "outputs": []
    },
    {
      "cell_type": "code",
      "metadata": {
        "id": "rvC7jxti1RD9",
        "colab_type": "code",
        "colab": {}
      },
      "source": [
        "query_search= \"Bolsonaro\"  + \" -filter:retweets\"\n",
        "\n",
        "cursor_tweets = tw.Cursor(api.search, q=query_search).items(1000)\n"
      ],
      "execution_count": 0,
      "outputs": []
    },
    {
      "cell_type": "code",
      "metadata": {
        "id": "wREK32hs1KyO",
        "colab_type": "code",
        "colab": {}
      },
      "source": [
        "for tweet in cursor_tweets:    \n",
        "    for key in tweets_dict.keys():\n",
        "        try:\n",
        "            twvalue = tweet._json[key]\n",
        "            tweets_dict[key].append(twvalue)\n",
        "        except KeyError:\n",
        "            twvalue = \"\"\n",
        "            if(tweets_dict[key] is None):\n",
        "                tweets_dict[key] = [twvalue]\n",
        "            else:\n",
        "                tweets_dict[key].append(twvalue)\n",
        "        except:\n",
        "            tweets_dict[key] = [twvalue]"
      ],
      "execution_count": 0,
      "outputs": []
    },
    {
      "cell_type": "code",
      "metadata": {
        "id": "g30VCY1K1O8S",
        "colab_type": "code",
        "colab": {}
      },
      "source": [
        "dfTweets = pd.DataFrame.from_dict(tweets_dict)"
      ],
      "execution_count": 0,
      "outputs": []
    }
  ]
}